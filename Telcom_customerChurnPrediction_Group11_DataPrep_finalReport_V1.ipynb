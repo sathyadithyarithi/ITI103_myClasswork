{
  "cells": [
    {
      "cell_type": "markdown",
      "metadata": {
        "id": "view-in-github",
        "colab_type": "text"
      },
      "source": [
        "<a href=\"https://colab.research.google.com/github/sathyadithyarithi/ITI103_myClasswork/blob/main/Telcom_customerChurnPrediction_Group11_DataPrep_finalReport_V1.ipynb\" target=\"_parent\"><img src=\"https://colab.research.google.com/assets/colab-badge.svg\" alt=\"Open In Colab\"/></a>"
      ]
    },
    {
      "cell_type": "markdown",
      "metadata": {
        "id": "Xop1tN2Eiqd_"
      },
      "source": [
        "### <font color=\"blue\">Import libraries & set pandas options</font>"
      ]
    },
    {
      "cell_type": "code",
      "execution_count": null,
      "metadata": {
        "id": "B9rbuef6iqeC"
      },
      "outputs": [],
      "source": [
        "## Import libraries\n",
        "import pandas as pd\n",
        "import numpy as np\n",
        "import matplotlib.pyplot as plt\n",
        "import seaborn as sns\n",
        "from sklearn.model_selection import train_test_split\n",
        "from sklearn.preprocessing import StandardScaler, OneHotEncoder\n",
        "from sklearn.impute import SimpleImputer"
      ]
    },
    {
      "cell_type": "markdown",
      "metadata": {
        "id": "8TP0Mm7RiqeE"
      },
      "source": [
        "### <font color=\"blue\">Data Preparation & Feature Engineering</font>"
      ]
    },
    {
      "cell_type": "code",
      "execution_count": null,
      "metadata": {
        "id": "5lPXNtLNiqeF",
        "outputId": "ebbb8fd8-cbc4-4b54-d017-63e76d6e8971"
      },
      "outputs": [
        {
          "data": {
            "text/html": [
              "<div>\n",
              "<style scoped>\n",
              "    .dataframe tbody tr th:only-of-type {\n",
              "        vertical-align: middle;\n",
              "    }\n",
              "\n",
              "    .dataframe tbody tr th {\n",
              "        vertical-align: top;\n",
              "    }\n",
              "\n",
              "    .dataframe thead th {\n",
              "        text-align: right;\n",
              "    }\n",
              "</style>\n",
              "<table border=\"1\" class=\"dataframe\">\n",
              "  <thead>\n",
              "    <tr style=\"text-align: right;\">\n",
              "      <th></th>\n",
              "      <th>CustomerID</th>\n",
              "      <th>Count</th>\n",
              "      <th>Country</th>\n",
              "      <th>State</th>\n",
              "      <th>City</th>\n",
              "      <th>Zip Code</th>\n",
              "      <th>Lat Long</th>\n",
              "      <th>Latitude</th>\n",
              "      <th>Longitude</th>\n",
              "      <th>Gender</th>\n",
              "      <th>...</th>\n",
              "      <th>Contract</th>\n",
              "      <th>Paperless Billing</th>\n",
              "      <th>Payment Method</th>\n",
              "      <th>Monthly Charges</th>\n",
              "      <th>Total Charges</th>\n",
              "      <th>Churn Label</th>\n",
              "      <th>Churn Value</th>\n",
              "      <th>Churn Score</th>\n",
              "      <th>CLTV</th>\n",
              "      <th>Churn Reason</th>\n",
              "    </tr>\n",
              "  </thead>\n",
              "  <tbody>\n",
              "    <tr>\n",
              "      <th>0</th>\n",
              "      <td>7774-OJSXI</td>\n",
              "      <td>1</td>\n",
              "      <td>United States</td>\n",
              "      <td>California</td>\n",
              "      <td>South Lake Tahoe</td>\n",
              "      <td>96150</td>\n",
              "      <td>38.911577, -120.106169</td>\n",
              "      <td>38.911577</td>\n",
              "      <td>-120.106169</td>\n",
              "      <td>Male</td>\n",
              "      <td>...</td>\n",
              "      <td>One year</td>\n",
              "      <td>Yes</td>\n",
              "      <td>Electronic check</td>\n",
              "      <td>101.949447</td>\n",
              "      <td>3061.394940</td>\n",
              "      <td>Yes</td>\n",
              "      <td>1</td>\n",
              "      <td>65</td>\n",
              "      <td>5387</td>\n",
              "      <td>Poor expertise of phone support</td>\n",
              "    </tr>\n",
              "    <tr>\n",
              "      <th>1</th>\n",
              "      <td>2878-DHMIN</td>\n",
              "      <td>1</td>\n",
              "      <td>United States</td>\n",
              "      <td>California</td>\n",
              "      <td>Sacramento</td>\n",
              "      <td>95833</td>\n",
              "      <td>38.619049, -121.517552</td>\n",
              "      <td>38.619049</td>\n",
              "      <td>-121.517552</td>\n",
              "      <td>Male</td>\n",
              "      <td>...</td>\n",
              "      <td>One year</td>\n",
              "      <td>No</td>\n",
              "      <td>Electronic check</td>\n",
              "      <td>21.044041</td>\n",
              "      <td>645.199178</td>\n",
              "      <td>No</td>\n",
              "      <td>0</td>\n",
              "      <td>30</td>\n",
              "      <td>2334</td>\n",
              "      <td>NaN</td>\n",
              "    </tr>\n",
              "    <tr>\n",
              "      <th>2</th>\n",
              "      <td>4804-NCPET</td>\n",
              "      <td>1</td>\n",
              "      <td>United States</td>\n",
              "      <td>California</td>\n",
              "      <td>Clearlake</td>\n",
              "      <td>95422</td>\n",
              "      <td>38.965804, -122.631779</td>\n",
              "      <td>38.965804</td>\n",
              "      <td>-122.631779</td>\n",
              "      <td>Male</td>\n",
              "      <td>...</td>\n",
              "      <td>Two year</td>\n",
              "      <td>No</td>\n",
              "      <td>Mailed check</td>\n",
              "      <td>16.683919</td>\n",
              "      <td>366.686109</td>\n",
              "      <td>No</td>\n",
              "      <td>0</td>\n",
              "      <td>60</td>\n",
              "      <td>4821</td>\n",
              "      <td>NaN</td>\n",
              "    </tr>\n",
              "    <tr>\n",
              "      <th>3</th>\n",
              "      <td>5006-MXVRN</td>\n",
              "      <td>1</td>\n",
              "      <td>United States</td>\n",
              "      <td>California</td>\n",
              "      <td>Keyes</td>\n",
              "      <td>95328</td>\n",
              "      <td>37.555631, -120.911653</td>\n",
              "      <td>37.555631</td>\n",
              "      <td>-120.911653</td>\n",
              "      <td>Female</td>\n",
              "      <td>...</td>\n",
              "      <td>Two year</td>\n",
              "      <td>No</td>\n",
              "      <td>Credit card (automatic)</td>\n",
              "      <td>20.999046</td>\n",
              "      <td>778.858402</td>\n",
              "      <td>No</td>\n",
              "      <td>0</td>\n",
              "      <td>45</td>\n",
              "      <td>3733</td>\n",
              "      <td>NaN</td>\n",
              "    </tr>\n",
              "    <tr>\n",
              "      <th>4</th>\n",
              "      <td>8216-AZUUZ</td>\n",
              "      <td>1</td>\n",
              "      <td>United States</td>\n",
              "      <td>California</td>\n",
              "      <td>San Francisco</td>\n",
              "      <td>94118</td>\n",
              "      <td>37.781304, -122.461522</td>\n",
              "      <td>37.781304</td>\n",
              "      <td>-122.461522</td>\n",
              "      <td>Female</td>\n",
              "      <td>...</td>\n",
              "      <td>Two year</td>\n",
              "      <td>Yes</td>\n",
              "      <td>Electronic check</td>\n",
              "      <td>106.860101</td>\n",
              "      <td>4308.035884</td>\n",
              "      <td>No</td>\n",
              "      <td>0</td>\n",
              "      <td>76</td>\n",
              "      <td>3265</td>\n",
              "      <td>NaN</td>\n",
              "    </tr>\n",
              "  </tbody>\n",
              "</table>\n",
              "<p>5 rows × 33 columns</p>\n",
              "</div>"
            ],
            "text/plain": [
              "   CustomerID  Count        Country       State              City  Zip Code  \\\n",
              "0  7774-OJSXI      1  United States  California  South Lake Tahoe     96150   \n",
              "1  2878-DHMIN      1  United States  California        Sacramento     95833   \n",
              "2  4804-NCPET      1  United States  California         Clearlake     95422   \n",
              "3  5006-MXVRN      1  United States  California             Keyes     95328   \n",
              "4  8216-AZUUZ      1  United States  California     San Francisco     94118   \n",
              "\n",
              "                 Lat Long   Latitude   Longitude  Gender  ...  Contract  \\\n",
              "0  38.911577, -120.106169  38.911577 -120.106169    Male  ...  One year   \n",
              "1  38.619049, -121.517552  38.619049 -121.517552    Male  ...  One year   \n",
              "2  38.965804, -122.631779  38.965804 -122.631779    Male  ...  Two year   \n",
              "3  37.555631, -120.911653  37.555631 -120.911653  Female  ...  Two year   \n",
              "4  37.781304, -122.461522  37.781304 -122.461522  Female  ...  Two year   \n",
              "\n",
              "  Paperless Billing           Payment Method  Monthly Charges Total Charges  \\\n",
              "0               Yes         Electronic check       101.949447   3061.394940   \n",
              "1                No         Electronic check        21.044041    645.199178   \n",
              "2                No             Mailed check        16.683919    366.686109   \n",
              "3                No  Credit card (automatic)        20.999046    778.858402   \n",
              "4               Yes         Electronic check       106.860101   4308.035884   \n",
              "\n",
              "  Churn Label Churn Value Churn Score  CLTV                     Churn Reason  \n",
              "0         Yes           1          65  5387  Poor expertise of phone support  \n",
              "1          No           0          30  2334                              NaN  \n",
              "2          No           0          60  4821                              NaN  \n",
              "3          No           0          45  3733                              NaN  \n",
              "4          No           0          76  3265                              NaN  \n",
              "\n",
              "[5 rows x 33 columns]"
            ]
          },
          "execution_count": 2,
          "metadata": {},
          "output_type": "execute_result"
        }
      ],
      "source": [
        "df = pd.read_csv(\"telcom_churn_large.csv\")\n",
        "df.head(5)"
      ]
    },
    {
      "cell_type": "code",
      "execution_count": null,
      "metadata": {
        "id": "oWAYUURQiqeH",
        "outputId": "e98638af-eb9b-45ff-fabd-335611410871"
      },
      "outputs": [
        {
          "name": "stdout",
          "output_type": "stream",
          "text": [
            "(100000, 33)\n"
          ]
        }
      ],
      "source": [
        "# View the total rows and columns present in the dataset\n",
        "print(df.shape)"
      ]
    },
    {
      "cell_type": "code",
      "execution_count": null,
      "metadata": {
        "id": "Pwi2XwSZiqeH"
      },
      "outputs": [],
      "source": [
        "# Keep one instance of each duplicate\n",
        "df.drop_duplicates(inplace=True)"
      ]
    },
    {
      "cell_type": "code",
      "execution_count": null,
      "metadata": {
        "id": "dtfZj-hriqeI",
        "outputId": "22fea28d-b284-459b-d2ed-82f4d865a3cf"
      },
      "outputs": [
        {
          "name": "stdout",
          "output_type": "stream",
          "text": [
            "(7043, 33)\n"
          ]
        }
      ],
      "source": [
        "print(df.shape)"
      ]
    },
    {
      "cell_type": "code",
      "execution_count": null,
      "metadata": {
        "id": "6RviFeZHiqeI"
      },
      "outputs": [],
      "source": [
        "#Drop the columns based on group discussion\n",
        "columns_to_drop = ['CustomerID','Count','Country','State','City','Lat Long','Latitude','Longitude','Churn Value','Churn Score','CLTV','Churn Reason']\n",
        "df.drop(columns=columns_to_drop, inplace=True)"
      ]
    },
    {
      "cell_type": "code",
      "execution_count": null,
      "metadata": {
        "id": "RWyD-Ru8iqeJ",
        "outputId": "a9d88dc8-cefb-4a37-e796-3886a4456f0f"
      },
      "outputs": [
        {
          "name": "stdout",
          "output_type": "stream",
          "text": [
            "(7043, 21)\n"
          ]
        }
      ],
      "source": [
        "print(df.shape)"
      ]
    },
    {
      "cell_type": "code",
      "execution_count": null,
      "metadata": {
        "id": "QmnFkFJKiqeK",
        "outputId": "b9db8413-e19e-463f-894d-2710d0acd040"
      },
      "outputs": [
        {
          "data": {
            "text/plain": [
              "tenure_group\n",
              "1 year     2175\n",
              "2 years    1024\n",
              "3 years     832\n",
              "4 years     762\n",
              "5 years     832\n",
              "6 years    1407\n",
              "Name: count, dtype: int64"
            ]
          },
          "execution_count": 9,
          "metadata": {},
          "output_type": "execute_result"
        }
      ],
      "source": [
        "# Group the tenure in bins of 12 months\n",
        "labels = [\"{0} - {1}\".format(i, i + 11) for i in range(1, 72, 12)]\n",
        "labels = [\"1 year\",\"2 years\",\"3 years\",\"4 years\",\"5 years\",\"6 years\"]\n",
        "df['tenure_group'] = pd.cut(df['Tenure Months'], range(1, 80, 12), right=False, labels=labels)\n",
        "\n",
        "df['tenure_group'].value_counts().sort_index()"
      ]
    },
    {
      "cell_type": "code",
      "execution_count": null,
      "metadata": {
        "id": "EBbho_JwiqeK"
      },
      "outputs": [],
      "source": [
        "#drop Tenure Months\n",
        "df.drop(columns=['Tenure Months'], inplace=True)"
      ]
    },
    {
      "cell_type": "code",
      "execution_count": null,
      "metadata": {
        "id": "o9Xj0Sl5iqeL",
        "outputId": "5d7983ec-a063-4702-b998-9debe524e6f7"
      },
      "outputs": [
        {
          "name": "stdout",
          "output_type": "stream",
          "text": [
            "(7043, 21)\n"
          ]
        }
      ],
      "source": [
        "print(df.shape)"
      ]
    },
    {
      "cell_type": "code",
      "execution_count": null,
      "metadata": {
        "id": "UhOfj6JciqeL",
        "outputId": "b93666a4-c195-45f2-a528-27cb72fbcec8"
      },
      "outputs": [
        {
          "data": {
            "text/html": [
              "<div>\n",
              "<style scoped>\n",
              "    .dataframe tbody tr th:only-of-type {\n",
              "        vertical-align: middle;\n",
              "    }\n",
              "\n",
              "    .dataframe tbody tr th {\n",
              "        vertical-align: top;\n",
              "    }\n",
              "\n",
              "    .dataframe thead th {\n",
              "        text-align: right;\n",
              "    }\n",
              "</style>\n",
              "<table border=\"1\" class=\"dataframe\">\n",
              "  <thead>\n",
              "    <tr style=\"text-align: right;\">\n",
              "      <th></th>\n",
              "      <th>Zip Code</th>\n",
              "      <th>Gender</th>\n",
              "      <th>Senior Citizen</th>\n",
              "      <th>Partner</th>\n",
              "      <th>Dependents</th>\n",
              "      <th>Phone Service</th>\n",
              "      <th>Multiple Lines</th>\n",
              "      <th>Internet Service</th>\n",
              "      <th>Online Security</th>\n",
              "      <th>Online Backup</th>\n",
              "      <th>...</th>\n",
              "      <th>Tech Support</th>\n",
              "      <th>Streaming TV</th>\n",
              "      <th>Streaming Movies</th>\n",
              "      <th>Contract</th>\n",
              "      <th>Paperless Billing</th>\n",
              "      <th>Payment Method</th>\n",
              "      <th>Monthly Charges</th>\n",
              "      <th>Total Charges</th>\n",
              "      <th>Churn Label</th>\n",
              "      <th>tenure_group</th>\n",
              "    </tr>\n",
              "  </thead>\n",
              "  <tbody>\n",
              "    <tr>\n",
              "      <th>0</th>\n",
              "      <td>96150</td>\n",
              "      <td>Male</td>\n",
              "      <td>No</td>\n",
              "      <td>No</td>\n",
              "      <td>No</td>\n",
              "      <td>Yes</td>\n",
              "      <td>Yes</td>\n",
              "      <td>Fiber optic</td>\n",
              "      <td>No</td>\n",
              "      <td>Yes</td>\n",
              "      <td>...</td>\n",
              "      <td>No</td>\n",
              "      <td>Yes</td>\n",
              "      <td>Yes</td>\n",
              "      <td>One year</td>\n",
              "      <td>Yes</td>\n",
              "      <td>Electronic check</td>\n",
              "      <td>101.949447</td>\n",
              "      <td>3061.394940</td>\n",
              "      <td>Yes</td>\n",
              "      <td>3 years</td>\n",
              "    </tr>\n",
              "    <tr>\n",
              "      <th>1</th>\n",
              "      <td>95833</td>\n",
              "      <td>Male</td>\n",
              "      <td>No</td>\n",
              "      <td>Yes</td>\n",
              "      <td>Yes</td>\n",
              "      <td>Yes</td>\n",
              "      <td>No</td>\n",
              "      <td>No</td>\n",
              "      <td>No internet service</td>\n",
              "      <td>No internet service</td>\n",
              "      <td>...</td>\n",
              "      <td>No internet service</td>\n",
              "      <td>No internet service</td>\n",
              "      <td>No internet service</td>\n",
              "      <td>One year</td>\n",
              "      <td>No</td>\n",
              "      <td>Electronic check</td>\n",
              "      <td>21.044041</td>\n",
              "      <td>645.199178</td>\n",
              "      <td>No</td>\n",
              "      <td>3 years</td>\n",
              "    </tr>\n",
              "    <tr>\n",
              "      <th>2</th>\n",
              "      <td>95422</td>\n",
              "      <td>Male</td>\n",
              "      <td>No</td>\n",
              "      <td>Yes</td>\n",
              "      <td>Yes</td>\n",
              "      <td>Yes</td>\n",
              "      <td>No</td>\n",
              "      <td>No</td>\n",
              "      <td>No internet service</td>\n",
              "      <td>No internet service</td>\n",
              "      <td>...</td>\n",
              "      <td>No internet service</td>\n",
              "      <td>No internet service</td>\n",
              "      <td>No internet service</td>\n",
              "      <td>Two year</td>\n",
              "      <td>No</td>\n",
              "      <td>Mailed check</td>\n",
              "      <td>16.683919</td>\n",
              "      <td>366.686109</td>\n",
              "      <td>No</td>\n",
              "      <td>2 years</td>\n",
              "    </tr>\n",
              "    <tr>\n",
              "      <th>3</th>\n",
              "      <td>95328</td>\n",
              "      <td>Female</td>\n",
              "      <td>No</td>\n",
              "      <td>No</td>\n",
              "      <td>No</td>\n",
              "      <td>Yes</td>\n",
              "      <td>No</td>\n",
              "      <td>No</td>\n",
              "      <td>No internet service</td>\n",
              "      <td>No internet service</td>\n",
              "      <td>...</td>\n",
              "      <td>No internet service</td>\n",
              "      <td>No internet service</td>\n",
              "      <td>No internet service</td>\n",
              "      <td>Two year</td>\n",
              "      <td>No</td>\n",
              "      <td>Credit card (automatic)</td>\n",
              "      <td>20.999046</td>\n",
              "      <td>778.858402</td>\n",
              "      <td>No</td>\n",
              "      <td>4 years</td>\n",
              "    </tr>\n",
              "    <tr>\n",
              "      <th>4</th>\n",
              "      <td>94118</td>\n",
              "      <td>Female</td>\n",
              "      <td>No</td>\n",
              "      <td>Yes</td>\n",
              "      <td>Yes</td>\n",
              "      <td>Yes</td>\n",
              "      <td>No</td>\n",
              "      <td>Fiber optic</td>\n",
              "      <td>No</td>\n",
              "      <td>No</td>\n",
              "      <td>...</td>\n",
              "      <td>Yes</td>\n",
              "      <td>Yes</td>\n",
              "      <td>Yes</td>\n",
              "      <td>Two year</td>\n",
              "      <td>Yes</td>\n",
              "      <td>Electronic check</td>\n",
              "      <td>106.860101</td>\n",
              "      <td>4308.035884</td>\n",
              "      <td>No</td>\n",
              "      <td>4 years</td>\n",
              "    </tr>\n",
              "  </tbody>\n",
              "</table>\n",
              "<p>5 rows × 21 columns</p>\n",
              "</div>"
            ],
            "text/plain": [
              "   Zip Code  Gender Senior Citizen Partner Dependents Phone Service  \\\n",
              "0     96150    Male             No      No         No           Yes   \n",
              "1     95833    Male             No     Yes        Yes           Yes   \n",
              "2     95422    Male             No     Yes        Yes           Yes   \n",
              "3     95328  Female             No      No         No           Yes   \n",
              "4     94118  Female             No     Yes        Yes           Yes   \n",
              "\n",
              "  Multiple Lines Internet Service      Online Security        Online Backup  \\\n",
              "0            Yes      Fiber optic                   No                  Yes   \n",
              "1             No               No  No internet service  No internet service   \n",
              "2             No               No  No internet service  No internet service   \n",
              "3             No               No  No internet service  No internet service   \n",
              "4             No      Fiber optic                   No                   No   \n",
              "\n",
              "   ...         Tech Support         Streaming TV     Streaming Movies  \\\n",
              "0  ...                   No                  Yes                  Yes   \n",
              "1  ...  No internet service  No internet service  No internet service   \n",
              "2  ...  No internet service  No internet service  No internet service   \n",
              "3  ...  No internet service  No internet service  No internet service   \n",
              "4  ...                  Yes                  Yes                  Yes   \n",
              "\n",
              "   Contract Paperless Billing           Payment Method Monthly Charges  \\\n",
              "0  One year               Yes         Electronic check      101.949447   \n",
              "1  One year                No         Electronic check       21.044041   \n",
              "2  Two year                No             Mailed check       16.683919   \n",
              "3  Two year                No  Credit card (automatic)       20.999046   \n",
              "4  Two year               Yes         Electronic check      106.860101   \n",
              "\n",
              "   Total Charges  Churn Label tenure_group  \n",
              "0    3061.394940          Yes      3 years  \n",
              "1     645.199178           No      3 years  \n",
              "2     366.686109           No      2 years  \n",
              "3     778.858402           No      4 years  \n",
              "4    4308.035884           No      4 years  \n",
              "\n",
              "[5 rows x 21 columns]"
            ]
          },
          "execution_count": 12,
          "metadata": {},
          "output_type": "execute_result"
        }
      ],
      "source": [
        "df.head(5)"
      ]
    },
    {
      "cell_type": "code",
      "execution_count": null,
      "metadata": {
        "id": "F1Ef4a2QiqeM"
      },
      "outputs": [],
      "source": [
        "#Replace Spaces with Underscores\n",
        "df.columns = df.columns.str.replace(' ', '_')"
      ]
    },
    {
      "cell_type": "code",
      "execution_count": null,
      "metadata": {
        "id": "fRjJevPuiqeM",
        "outputId": "460726bf-eacd-44d8-e70a-9fa0f5cd4dad"
      },
      "outputs": [
        {
          "name": "stderr",
          "output_type": "stream",
          "text": [
            "C:\\Users\\manik\\AppData\\Local\\Temp\\ipykernel_13464\\3966181821.py:1: FutureWarning: A value is trying to be set on a copy of a DataFrame or Series through chained assignment using an inplace method.\n",
            "The behavior will change in pandas 3.0. This inplace method will never work because the intermediate object on which we are setting values always behaves as a copy.\n",
            "\n",
            "For example, when doing 'df[col].method(value, inplace=True)', try using 'df.method({col: value}, inplace=True)' or df[col] = df[col].method(value) instead, to perform the operation inplace on the original object.\n",
            "\n",
            "\n",
            "  df['Churn_Label'].replace({\"No\":0, \"Yes\":1}, inplace=True)\n",
            "C:\\Users\\manik\\AppData\\Local\\Temp\\ipykernel_13464\\3966181821.py:1: FutureWarning: Downcasting behavior in `replace` is deprecated and will be removed in a future version. To retain the old behavior, explicitly call `result.infer_objects(copy=False)`. To opt-in to the future behavior, set `pd.set_option('future.no_silent_downcasting', True)`\n",
            "  df['Churn_Label'].replace({\"No\":0, \"Yes\":1}, inplace=True)\n"
          ]
        }
      ],
      "source": [
        "df['Churn_Label'].replace({\"No\":0, \"Yes\":1}, inplace=True)"
      ]
    },
    {
      "cell_type": "code",
      "execution_count": null,
      "metadata": {
        "id": "cjiHptTOiqeN"
      },
      "outputs": [],
      "source": [
        "# write the DataFrame as csv\n",
        "df.to_csv('Telco_churn_dataProcessed.csv', index=False)"
      ]
    },
    {
      "cell_type": "code",
      "execution_count": null,
      "metadata": {
        "id": "d3qq9oOpiqeN",
        "outputId": "9f7ede01-4e19-480b-8f4f-7ed566d283bb"
      },
      "outputs": [
        {
          "name": "stdout",
          "output_type": "stream",
          "text": [
            "<class 'pandas.core.frame.DataFrame'>\n",
            "Index: 7043 entries, 0 to 75704\n",
            "Data columns (total 21 columns):\n",
            " #   Column             Non-Null Count  Dtype   \n",
            "---  ------             --------------  -----   \n",
            " 0   Zip_Code           7043 non-null   int64   \n",
            " 1   Gender             6708 non-null   object  \n",
            " 2   Senior_Citizen     6709 non-null   object  \n",
            " 3   Partner            7043 non-null   object  \n",
            " 4   Dependents         7043 non-null   object  \n",
            " 5   Phone_Service      7043 non-null   object  \n",
            " 6   Multiple_Lines     7043 non-null   object  \n",
            " 7   Internet_Service   7043 non-null   object  \n",
            " 8   Online_Security    7043 non-null   object  \n",
            " 9   Online_Backup      7043 non-null   object  \n",
            " 10  Device_Protection  7043 non-null   object  \n",
            " 11  Tech_Support       7043 non-null   object  \n",
            " 12  Streaming_TV       7043 non-null   object  \n",
            " 13  Streaming_Movies   7043 non-null   object  \n",
            " 14  Contract           7043 non-null   object  \n",
            " 15  Paperless_Billing  7043 non-null   object  \n",
            " 16  Payment_Method     7043 non-null   object  \n",
            " 17  Monthly_Charges    7043 non-null   float64 \n",
            " 18  Total_Charges      7032 non-null   float64 \n",
            " 19  Churn_Label        7043 non-null   int64   \n",
            " 20  tenure_group       7032 non-null   category\n",
            "dtypes: category(1), float64(2), int64(2), object(16)\n",
            "memory usage: 1.1+ MB\n"
          ]
        }
      ],
      "source": [
        "df.info()"
      ]
    },
    {
      "cell_type": "markdown",
      "metadata": {
        "id": "wetQpcAFiqeO"
      },
      "source": [
        "### <font color=\"blue\">Data Scaling</font>"
      ]
    },
    {
      "cell_type": "code",
      "execution_count": null,
      "metadata": {
        "id": "a7aJY-ariqeO"
      },
      "outputs": [],
      "source": [
        "from sklearn.compose import ColumnTransformer\n",
        "from sklearn.pipeline import Pipeline"
      ]
    },
    {
      "cell_type": "code",
      "execution_count": null,
      "metadata": {
        "id": "DGy7t3nPiqeO",
        "outputId": "a588a226-68a1-4289-93c7-edc6bca4c8b8"
      },
      "outputs": [
        {
          "data": {
            "text/html": [
              "<div>\n",
              "<style scoped>\n",
              "    .dataframe tbody tr th:only-of-type {\n",
              "        vertical-align: middle;\n",
              "    }\n",
              "\n",
              "    .dataframe tbody tr th {\n",
              "        vertical-align: top;\n",
              "    }\n",
              "\n",
              "    .dataframe thead th {\n",
              "        text-align: right;\n",
              "    }\n",
              "</style>\n",
              "<table border=\"1\" class=\"dataframe\">\n",
              "  <thead>\n",
              "    <tr style=\"text-align: right;\">\n",
              "      <th></th>\n",
              "      <th>Zip_Code</th>\n",
              "      <th>Gender</th>\n",
              "      <th>Senior_Citizen</th>\n",
              "      <th>Partner</th>\n",
              "      <th>Dependents</th>\n",
              "      <th>Phone_Service</th>\n",
              "      <th>Multiple_Lines</th>\n",
              "      <th>Internet_Service</th>\n",
              "      <th>Online_Security</th>\n",
              "      <th>Online_Backup</th>\n",
              "      <th>...</th>\n",
              "      <th>Tech_Support</th>\n",
              "      <th>Streaming_TV</th>\n",
              "      <th>Streaming_Movies</th>\n",
              "      <th>Contract</th>\n",
              "      <th>Paperless_Billing</th>\n",
              "      <th>Payment_Method</th>\n",
              "      <th>Monthly_Charges</th>\n",
              "      <th>Total_Charges</th>\n",
              "      <th>Churn_Label</th>\n",
              "      <th>tenure_group</th>\n",
              "    </tr>\n",
              "  </thead>\n",
              "  <tbody>\n",
              "    <tr>\n",
              "      <th>0</th>\n",
              "      <td>96150</td>\n",
              "      <td>Male</td>\n",
              "      <td>No</td>\n",
              "      <td>No</td>\n",
              "      <td>No</td>\n",
              "      <td>Yes</td>\n",
              "      <td>Yes</td>\n",
              "      <td>Fiber optic</td>\n",
              "      <td>No</td>\n",
              "      <td>Yes</td>\n",
              "      <td>...</td>\n",
              "      <td>No</td>\n",
              "      <td>Yes</td>\n",
              "      <td>Yes</td>\n",
              "      <td>One year</td>\n",
              "      <td>Yes</td>\n",
              "      <td>Electronic check</td>\n",
              "      <td>101.949447</td>\n",
              "      <td>3061.394940</td>\n",
              "      <td>1</td>\n",
              "      <td>3 years</td>\n",
              "    </tr>\n",
              "    <tr>\n",
              "      <th>1</th>\n",
              "      <td>95833</td>\n",
              "      <td>Male</td>\n",
              "      <td>No</td>\n",
              "      <td>Yes</td>\n",
              "      <td>Yes</td>\n",
              "      <td>Yes</td>\n",
              "      <td>No</td>\n",
              "      <td>No</td>\n",
              "      <td>No internet service</td>\n",
              "      <td>No internet service</td>\n",
              "      <td>...</td>\n",
              "      <td>No internet service</td>\n",
              "      <td>No internet service</td>\n",
              "      <td>No internet service</td>\n",
              "      <td>One year</td>\n",
              "      <td>No</td>\n",
              "      <td>Electronic check</td>\n",
              "      <td>21.044041</td>\n",
              "      <td>645.199178</td>\n",
              "      <td>0</td>\n",
              "      <td>3 years</td>\n",
              "    </tr>\n",
              "    <tr>\n",
              "      <th>2</th>\n",
              "      <td>95422</td>\n",
              "      <td>Male</td>\n",
              "      <td>No</td>\n",
              "      <td>Yes</td>\n",
              "      <td>Yes</td>\n",
              "      <td>Yes</td>\n",
              "      <td>No</td>\n",
              "      <td>No</td>\n",
              "      <td>No internet service</td>\n",
              "      <td>No internet service</td>\n",
              "      <td>...</td>\n",
              "      <td>No internet service</td>\n",
              "      <td>No internet service</td>\n",
              "      <td>No internet service</td>\n",
              "      <td>Two year</td>\n",
              "      <td>No</td>\n",
              "      <td>Mailed check</td>\n",
              "      <td>16.683919</td>\n",
              "      <td>366.686109</td>\n",
              "      <td>0</td>\n",
              "      <td>2 years</td>\n",
              "    </tr>\n",
              "    <tr>\n",
              "      <th>3</th>\n",
              "      <td>95328</td>\n",
              "      <td>Female</td>\n",
              "      <td>No</td>\n",
              "      <td>No</td>\n",
              "      <td>No</td>\n",
              "      <td>Yes</td>\n",
              "      <td>No</td>\n",
              "      <td>No</td>\n",
              "      <td>No internet service</td>\n",
              "      <td>No internet service</td>\n",
              "      <td>...</td>\n",
              "      <td>No internet service</td>\n",
              "      <td>No internet service</td>\n",
              "      <td>No internet service</td>\n",
              "      <td>Two year</td>\n",
              "      <td>No</td>\n",
              "      <td>Credit card (automatic)</td>\n",
              "      <td>20.999046</td>\n",
              "      <td>778.858402</td>\n",
              "      <td>0</td>\n",
              "      <td>4 years</td>\n",
              "    </tr>\n",
              "    <tr>\n",
              "      <th>4</th>\n",
              "      <td>94118</td>\n",
              "      <td>Female</td>\n",
              "      <td>No</td>\n",
              "      <td>Yes</td>\n",
              "      <td>Yes</td>\n",
              "      <td>Yes</td>\n",
              "      <td>No</td>\n",
              "      <td>Fiber optic</td>\n",
              "      <td>No</td>\n",
              "      <td>No</td>\n",
              "      <td>...</td>\n",
              "      <td>Yes</td>\n",
              "      <td>Yes</td>\n",
              "      <td>Yes</td>\n",
              "      <td>Two year</td>\n",
              "      <td>Yes</td>\n",
              "      <td>Electronic check</td>\n",
              "      <td>106.860101</td>\n",
              "      <td>4308.035884</td>\n",
              "      <td>0</td>\n",
              "      <td>4 years</td>\n",
              "    </tr>\n",
              "  </tbody>\n",
              "</table>\n",
              "<p>5 rows × 21 columns</p>\n",
              "</div>"
            ],
            "text/plain": [
              "   Zip_Code  Gender Senior_Citizen Partner Dependents Phone_Service  \\\n",
              "0     96150    Male             No      No         No           Yes   \n",
              "1     95833    Male             No     Yes        Yes           Yes   \n",
              "2     95422    Male             No     Yes        Yes           Yes   \n",
              "3     95328  Female             No      No         No           Yes   \n",
              "4     94118  Female             No     Yes        Yes           Yes   \n",
              "\n",
              "  Multiple_Lines Internet_Service      Online_Security        Online_Backup  \\\n",
              "0            Yes      Fiber optic                   No                  Yes   \n",
              "1             No               No  No internet service  No internet service   \n",
              "2             No               No  No internet service  No internet service   \n",
              "3             No               No  No internet service  No internet service   \n",
              "4             No      Fiber optic                   No                   No   \n",
              "\n",
              "   ...         Tech_Support         Streaming_TV     Streaming_Movies  \\\n",
              "0  ...                   No                  Yes                  Yes   \n",
              "1  ...  No internet service  No internet service  No internet service   \n",
              "2  ...  No internet service  No internet service  No internet service   \n",
              "3  ...  No internet service  No internet service  No internet service   \n",
              "4  ...                  Yes                  Yes                  Yes   \n",
              "\n",
              "   Contract Paperless_Billing           Payment_Method Monthly_Charges  \\\n",
              "0  One year               Yes         Electronic check      101.949447   \n",
              "1  One year                No         Electronic check       21.044041   \n",
              "2  Two year                No             Mailed check       16.683919   \n",
              "3  Two year                No  Credit card (automatic)       20.999046   \n",
              "4  Two year               Yes         Electronic check      106.860101   \n",
              "\n",
              "   Total_Charges  Churn_Label  tenure_group  \n",
              "0    3061.394940            1       3 years  \n",
              "1     645.199178            0       3 years  \n",
              "2     366.686109            0       2 years  \n",
              "3     778.858402            0       4 years  \n",
              "4    4308.035884            0       4 years  \n",
              "\n",
              "[5 rows x 21 columns]"
            ]
          },
          "execution_count": 4,
          "metadata": {},
          "output_type": "execute_result"
        }
      ],
      "source": [
        "df_model = pd.read_csv(\"Telco_churn_dataProcessed.csv\")\n",
        "df_model.head(5)"
      ]
    },
    {
      "cell_type": "code",
      "execution_count": null,
      "metadata": {
        "id": "nciwjEKciqeP"
      },
      "outputs": [],
      "source": [
        "def prepare_data(df, target_col):\n",
        "    # Drop specified features and target column\n",
        "    X = df.drop(target_col, axis=1)\n",
        "    Y = df[target_col]\n",
        "\n",
        "    # Identify numeric and categorical columns\n",
        "    numeric_cols = X.select_dtypes(include=[np.number]).columns\n",
        "    categorical_cols = X.select_dtypes(include=['object', 'category']).columns\n",
        "\n",
        "    # Split the data into training and testing sets\n",
        "    X_train, X_test, y_train, y_test = train_test_split(X, Y, test_size=0.2, random_state=42)\n",
        "    print(\"X_train Shape : \", X_train.shape)\n",
        "    print(\"Y_train Shape : \", y_train.shape)\n",
        "\n",
        "    # Handle categorial data using oneHotEncoder\n",
        "    # Apply the scalar on numerical features\n",
        "    # User Column Transformer to build the preprocessor that handles both numeric and categorial data correctly\n",
        "\n",
        "    # Define preprocessing pipelines for numeric and categorical features\n",
        "    numerical_transf = Pipeline(steps=[\n",
        "        ('imputer', SimpleImputer(strategy='median')),\n",
        "        ('scaler', StandardScaler())\n",
        "    ])\n",
        "    categorical_transf = Pipeline(steps=[\n",
        "        ('imputer', SimpleImputer(strategy='most_frequent')),\n",
        "        ('onehot', OneHotEncoder(handle_unknown='ignore'))\n",
        "    ])\n",
        "\n",
        "    # Combine preprocessing pipelines into a ColumnTransformer\n",
        "    preprocessor = ColumnTransformer(\n",
        "        transformers=[\n",
        "            ('num', numerical_transf, numeric_cols),\n",
        "            ('cat', categorical_transf, categorical_cols)\n",
        "        ]\n",
        "    )\n",
        "\n",
        "    # Fit the preprocessing pipeline on the training data\n",
        "    preprocessor.fit(X_train)\n",
        "\n",
        "    # Transform the training and testing data\n",
        "    X_train_transformed = preprocessor.transform(X_train)\n",
        "    X_test_transformed = preprocessor.transform(X_test)\n",
        "\n",
        "    print(\"Shape of X_train_transformed : \",X_train_transformed.shape)\n",
        "    print(\"Shape of X_test_transformed : \",X_test_transformed.shape)\n",
        "\n",
        "    return X_train_transformed, X_test_transformed, y_train, y_test, preprocessor"
      ]
    },
    {
      "cell_type": "code",
      "execution_count": null,
      "metadata": {
        "id": "5bcREe6UiqeQ",
        "outputId": "d12624f5-c4f5-4aa0-895a-0679dc67516a"
      },
      "outputs": [
        {
          "name": "stdout",
          "output_type": "stream",
          "text": [
            "X_train Shape :  (5634, 20)\n",
            "Y_train Shape :  (5634,)\n",
            "Shape of X_train_transformed :  (5634, 54)\n",
            "Shape of X_test_transformed :  (1409, 54)\n"
          ]
        }
      ],
      "source": [
        "target_col = 'Churn_Label'\n",
        "X_train_transformed, X_test_transformed, y_train, y_test, preprocessor = prepare_data(df_model, target_col)"
      ]
    },
    {
      "cell_type": "code",
      "execution_count": null,
      "metadata": {
        "id": "G1E_n50DiqeQ"
      },
      "outputs": [],
      "source": [
        "#### Save the preprocessor as pickle for application development\n",
        "import pickle\n",
        "# Save the preprocessor to a file\n",
        "with open('Telco_churn_preprocessor.pkl', 'wb') as file:\n",
        "    pickle.dump(preprocessor, file)"
      ]
    },
    {
      "cell_type": "markdown",
      "metadata": {
        "id": "LIHYAAthiqeR"
      },
      "source": [
        "### <font color=\"blue\">Modelling along with mlflow</font>"
      ]
    },
    {
      "cell_type": "code",
      "execution_count": null,
      "metadata": {
        "id": "ooFEBWmGiqeR"
      },
      "outputs": [],
      "source": [
        "#Import various models\n",
        "from sklearn.linear_model import LogisticRegression\n",
        "\n",
        "#Import libs needed for model evaluation and metrics calculation\n",
        "from sklearn.metrics import accuracy_score, roc_auc_score, recall_score, f1_score, precision_score"
      ]
    },
    {
      "cell_type": "code",
      "execution_count": null,
      "metadata": {
        "id": "zvuDe4lAiqeR"
      },
      "outputs": [],
      "source": [
        "#Import mlflow\n",
        "import mlflow\n",
        "import os"
      ]
    },
    {
      "cell_type": "code",
      "execution_count": null,
      "metadata": {
        "id": "OqYuKOJ1iqeR"
      },
      "outputs": [],
      "source": [
        "#Set mlflow\n",
        "os.environ[\"MLFLOW_TRACKING_URI\"] = \"sqlite:///mlruns.db\"\n",
        "mlflow.sklearn.autolog()"
      ]
    },
    {
      "cell_type": "code",
      "execution_count": null,
      "metadata": {
        "id": "q2O8UJdjiqeS"
      },
      "outputs": [],
      "source": [
        "def handle_ml_run(run_name_prefix : str):\n",
        "    # End the current run (if active)\n",
        "    if mlflow.active_run():\n",
        "        mlflow.end_run()\n",
        "\n",
        "    # Get the existing runs for this experiment\n",
        "    existing_runs = mlflow.search_runs()\n",
        "\n",
        "    if existing_runs.empty:\n",
        "        # No existing runs, create a new run\n",
        "        next_run_number = 1\n",
        "    else:\n",
        "        # Calculate the next run number\n",
        "        next_run_number = len(existing_runs) + 1\n",
        "\n",
        "    # Create the full run name\n",
        "    run_name = f\"{run_name_prefix}_run_{next_run_number}\"\n",
        "\n",
        "    return run_name"
      ]
    },
    {
      "cell_type": "code",
      "execution_count": null,
      "metadata": {
        "id": "Jg8Vj6jfiqeS"
      },
      "outputs": [],
      "source": [
        "def evaluate_model(model, X_test, y_test):\n",
        "    y_pred = model.predict(X_test)\n",
        "    accuracy = accuracy_score(y_test, y_pred)\n",
        "    precision = precision_score(y_test, y_pred)\n",
        "    recall = recall_score(y_test, y_pred)\n",
        "    f1 = f1_score(y_test, y_pred)\n",
        "    roc_auc = roc_auc_score(y_test, model.predict_proba(X_test)[:, 1])\n",
        "    # Print the results\n",
        "    print(f\"Accuracy: {accuracy:.4f}\")\n",
        "    print(f\"Precision: {precision:.4f}\")\n",
        "    print(f\"Recall: {recall:.4f}\")\n",
        "    print(f\"F1-score: {f1:.4f}\")\n",
        "    print(f\"ROC AUC: {roc_auc:.4f}\")\n",
        "    return accuracy, precision, recall, f1, roc_auc"
      ]
    },
    {
      "cell_type": "markdown",
      "metadata": {
        "id": "zIDx0tIZiqeT"
      },
      "source": [
        "#### Logistic Regression"
      ]
    },
    {
      "cell_type": "code",
      "execution_count": null,
      "metadata": {
        "id": "qCByMDKCiqeT",
        "outputId": "ad71bbfb-d259-4963-f343-b805723be8b9"
      },
      "outputs": [
        {
          "name": "stderr",
          "output_type": "stream",
          "text": [
            "2024/08/13 23:54:03 WARNING mlflow.sklearn: Failed to log training dataset information to MLflow Tracking. Reason: 'Series' object has no attribute 'flatten'\n"
          ]
        },
        {
          "name": "stdout",
          "output_type": "stream",
          "text": [
            "Accuracy: 0.8126\n",
            "Precision: 0.6721\n",
            "Recall: 0.5556\n",
            "F1-score: 0.6083\n",
            "ROC AUC: 0.8573\n"
          ]
        }
      ],
      "source": [
        "run_name = handle_ml_run(\"Logistic_Regression\")\n",
        "# Start a new run with the custom name\n",
        "with mlflow.start_run(run_name=run_name):\n",
        "    mlflow.set_tag(\"Regularization\",\"L2\")\n",
        "    #model = LogisticRegression(solver='liblinear', random_state=1)\n",
        "    #model = LogisticRegression(penalty='l1', solver='liblinear', random_state=1)\n",
        "    model = LogisticRegression(penalty='l2', solver='liblinear', random_state=1)\n",
        "\n",
        "    model.fit(X_train_transformed, y_train)\n",
        "    y_pred = model.predict(X_test_transformed)\n",
        "    accuracy, precision, recall, f1, roc_auc = evaluate_model(model, X_test_transformed, y_test)\n",
        "\n",
        "    # Log the loss metric\n",
        "    mlflow.log_metric(\"accuracy\", accuracy)\n",
        "    mlflow.log_metric(\"Precision\", precision)\n",
        "    mlflow.log_metric(\"Recall\", recall)\n",
        "    mlflow.log_metric(\"F1-score\", f1)\n",
        "    mlflow.log_metric(\"ROC AUC\", roc_auc)"
      ]
    },
    {
      "cell_type": "code",
      "execution_count": null,
      "metadata": {
        "id": "z8sN8bTCiqeT"
      },
      "outputs": [],
      "source": []
    }
  ],
  "metadata": {
    "kernelspec": {
      "display_name": ".venv",
      "language": "python",
      "name": "python3"
    },
    "language_info": {
      "codemirror_mode": {
        "name": "ipython",
        "version": 3
      },
      "file_extension": ".py",
      "mimetype": "text/x-python",
      "name": "python",
      "nbconvert_exporter": "python",
      "pygments_lexer": "ipython3",
      "version": "3.12.0"
    },
    "colab": {
      "provenance": [],
      "include_colab_link": true
    }
  },
  "nbformat": 4,
  "nbformat_minor": 0
}