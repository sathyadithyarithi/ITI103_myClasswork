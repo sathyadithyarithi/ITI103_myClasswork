{
  "nbformat": 4,
  "nbformat_minor": 0,
  "metadata": {
    "colab": {
      "provenance": [],
      "include_colab_link": true
    },
    "kernelspec": {
      "display_name": "Python 3",
      "language": "python",
      "name": "python3"
    },
    "language_info": {
      "codemirror_mode": {
        "name": "ipython",
        "version": 3
      },
      "file_extension": ".py",
      "mimetype": "text/x-python",
      "name": "python",
      "nbconvert_exporter": "python",
      "pygments_lexer": "ipython3",
      "version": "3.6.7"
    }
  },
  "cells": [
    {
      "cell_type": "markdown",
      "metadata": {
        "id": "view-in-github",
        "colab_type": "text"
      },
      "source": [
        "<a href=\"https://colab.research.google.com/github/sathyadithyarithi/ITI103_myClasswork/blob/main/1_Introduction_to_Machine_Learning_and_Toolkit.ipynb\" target=\"_parent\"><img src=\"https://colab.research.google.com/assets/colab-badge.svg\" alt=\"Open In Colab\"/></a>"
      ]
    },
    {
      "cell_type": "markdown",
      "metadata": {
        "id": "lzimyXSbLasq",
        "run_control": {
          "marked": true
        }
      },
      "source": [
        "# Introduction to Machine Learning and Toolkit Exercises"
      ]
    },
    {
      "cell_type": "markdown",
      "metadata": {
        "id": "CTLn_tf6Lasr",
        "run_control": {
          "marked": true
        }
      },
      "source": [
        "## Introduction\n",
        "\n",
        "We will be using the iris data set for this tutorial. This is a well-known data set containing iris species and sepal and petal measurements.  The data set contains 3 classes of 50 instances each, where each class refers to a type of iris plant. The data we will use are in a file called `Iris_Data.csv` found in the repository."
      ]
    },
    {
      "cell_type": "markdown",
      "metadata": {
        "id": "N7GwECi6Lasw",
        "run_control": {
          "marked": true
        }
      },
      "source": [
        "## Question 1\n",
        "\n",
        "Load the data from the file using the techniques learned today. Examine it.\n",
        "\n",
        "Determine the following:\n",
        "\n",
        "* The number of data points (rows). (*Hint:* check out the dataframe `.shape` attribute.)\n",
        "* The column names. (*Hint:* check out the dataframe `.columns` attribute.)\n",
        "* The data types for each column. (*Hint:* check out the dataframe `.dtypes` attribute.)"
      ]
    },
    {
      "cell_type": "code",
      "metadata": {
        "ExecuteTime": {
          "end_time": "2017-03-19T23:17:21.954025Z",
          "start_time": "2017-03-19T19:17:21.936220-04:00"
        },
        "id": "xjIR4sMjLasx",
        "run_control": {
          "marked": true
        },
        "colab": {
          "base_uri": "https://localhost:8080/",
          "height": 206
        },
        "outputId": "9e4c4149-e919-4e7e-fec8-1ac085ad82d9"
      },
      "source": [
        "import pandas as pd\n",
        "import numpy as np\n",
        "url = 'https://raw.githubusercontent.com/nyp-sit/data/master/Iris_Data.csv'\n",
        "data = pd.read_csv(url)\n",
        "data.head()"
      ],
      "execution_count": 1,
      "outputs": [
        {
          "output_type": "execute_result",
          "data": {
            "text/plain": [
              "   sepal_length  sepal_width  petal_length  petal_width      species\n",
              "0           5.1          3.5           1.4          0.2  Iris-setosa\n",
              "1           4.9          3.0           1.4          0.2  Iris-setosa\n",
              "2           4.7          3.2           1.3          0.2  Iris-setosa\n",
              "3           4.6          3.1           1.5          0.2  Iris-setosa\n",
              "4           5.0          3.6           1.4          0.2  Iris-setosa"
            ],
            "text/html": [
              "\n",
              "  <div id=\"df-ef949e30-d1c5-420e-9fab-4d68a5ed8f15\" class=\"colab-df-container\">\n",
              "    <div>\n",
              "<style scoped>\n",
              "    .dataframe tbody tr th:only-of-type {\n",
              "        vertical-align: middle;\n",
              "    }\n",
              "\n",
              "    .dataframe tbody tr th {\n",
              "        vertical-align: top;\n",
              "    }\n",
              "\n",
              "    .dataframe thead th {\n",
              "        text-align: right;\n",
              "    }\n",
              "</style>\n",
              "<table border=\"1\" class=\"dataframe\">\n",
              "  <thead>\n",
              "    <tr style=\"text-align: right;\">\n",
              "      <th></th>\n",
              "      <th>sepal_length</th>\n",
              "      <th>sepal_width</th>\n",
              "      <th>petal_length</th>\n",
              "      <th>petal_width</th>\n",
              "      <th>species</th>\n",
              "    </tr>\n",
              "  </thead>\n",
              "  <tbody>\n",
              "    <tr>\n",
              "      <th>0</th>\n",
              "      <td>5.1</td>\n",
              "      <td>3.5</td>\n",
              "      <td>1.4</td>\n",
              "      <td>0.2</td>\n",
              "      <td>Iris-setosa</td>\n",
              "    </tr>\n",
              "    <tr>\n",
              "      <th>1</th>\n",
              "      <td>4.9</td>\n",
              "      <td>3.0</td>\n",
              "      <td>1.4</td>\n",
              "      <td>0.2</td>\n",
              "      <td>Iris-setosa</td>\n",
              "    </tr>\n",
              "    <tr>\n",
              "      <th>2</th>\n",
              "      <td>4.7</td>\n",
              "      <td>3.2</td>\n",
              "      <td>1.3</td>\n",
              "      <td>0.2</td>\n",
              "      <td>Iris-setosa</td>\n",
              "    </tr>\n",
              "    <tr>\n",
              "      <th>3</th>\n",
              "      <td>4.6</td>\n",
              "      <td>3.1</td>\n",
              "      <td>1.5</td>\n",
              "      <td>0.2</td>\n",
              "      <td>Iris-setosa</td>\n",
              "    </tr>\n",
              "    <tr>\n",
              "      <th>4</th>\n",
              "      <td>5.0</td>\n",
              "      <td>3.6</td>\n",
              "      <td>1.4</td>\n",
              "      <td>0.2</td>\n",
              "      <td>Iris-setosa</td>\n",
              "    </tr>\n",
              "  </tbody>\n",
              "</table>\n",
              "</div>\n",
              "    <div class=\"colab-df-buttons\">\n",
              "\n",
              "  <div class=\"colab-df-container\">\n",
              "    <button class=\"colab-df-convert\" onclick=\"convertToInteractive('df-ef949e30-d1c5-420e-9fab-4d68a5ed8f15')\"\n",
              "            title=\"Convert this dataframe to an interactive table.\"\n",
              "            style=\"display:none;\">\n",
              "\n",
              "  <svg xmlns=\"http://www.w3.org/2000/svg\" height=\"24px\" viewBox=\"0 -960 960 960\">\n",
              "    <path d=\"M120-120v-720h720v720H120Zm60-500h600v-160H180v160Zm220 220h160v-160H400v160Zm0 220h160v-160H400v160ZM180-400h160v-160H180v160Zm440 0h160v-160H620v160ZM180-180h160v-160H180v160Zm440 0h160v-160H620v160Z\"/>\n",
              "  </svg>\n",
              "    </button>\n",
              "\n",
              "  <style>\n",
              "    .colab-df-container {\n",
              "      display:flex;\n",
              "      gap: 12px;\n",
              "    }\n",
              "\n",
              "    .colab-df-convert {\n",
              "      background-color: #E8F0FE;\n",
              "      border: none;\n",
              "      border-radius: 50%;\n",
              "      cursor: pointer;\n",
              "      display: none;\n",
              "      fill: #1967D2;\n",
              "      height: 32px;\n",
              "      padding: 0 0 0 0;\n",
              "      width: 32px;\n",
              "    }\n",
              "\n",
              "    .colab-df-convert:hover {\n",
              "      background-color: #E2EBFA;\n",
              "      box-shadow: 0px 1px 2px rgba(60, 64, 67, 0.3), 0px 1px 3px 1px rgba(60, 64, 67, 0.15);\n",
              "      fill: #174EA6;\n",
              "    }\n",
              "\n",
              "    .colab-df-buttons div {\n",
              "      margin-bottom: 4px;\n",
              "    }\n",
              "\n",
              "    [theme=dark] .colab-df-convert {\n",
              "      background-color: #3B4455;\n",
              "      fill: #D2E3FC;\n",
              "    }\n",
              "\n",
              "    [theme=dark] .colab-df-convert:hover {\n",
              "      background-color: #434B5C;\n",
              "      box-shadow: 0px 1px 3px 1px rgba(0, 0, 0, 0.15);\n",
              "      filter: drop-shadow(0px 1px 2px rgba(0, 0, 0, 0.3));\n",
              "      fill: #FFFFFF;\n",
              "    }\n",
              "  </style>\n",
              "\n",
              "    <script>\n",
              "      const buttonEl =\n",
              "        document.querySelector('#df-ef949e30-d1c5-420e-9fab-4d68a5ed8f15 button.colab-df-convert');\n",
              "      buttonEl.style.display =\n",
              "        google.colab.kernel.accessAllowed ? 'block' : 'none';\n",
              "\n",
              "      async function convertToInteractive(key) {\n",
              "        const element = document.querySelector('#df-ef949e30-d1c5-420e-9fab-4d68a5ed8f15');\n",
              "        const dataTable =\n",
              "          await google.colab.kernel.invokeFunction('convertToInteractive',\n",
              "                                                    [key], {});\n",
              "        if (!dataTable) return;\n",
              "\n",
              "        const docLinkHtml = 'Like what you see? Visit the ' +\n",
              "          '<a target=\"_blank\" href=https://colab.research.google.com/notebooks/data_table.ipynb>data table notebook</a>'\n",
              "          + ' to learn more about interactive tables.';\n",
              "        element.innerHTML = '';\n",
              "        dataTable['output_type'] = 'display_data';\n",
              "        await google.colab.output.renderOutput(dataTable, element);\n",
              "        const docLink = document.createElement('div');\n",
              "        docLink.innerHTML = docLinkHtml;\n",
              "        element.appendChild(docLink);\n",
              "      }\n",
              "    </script>\n",
              "  </div>\n",
              "\n",
              "\n",
              "<div id=\"df-8232c6b4-cbf8-45ab-b9dc-561480387b6a\">\n",
              "  <button class=\"colab-df-quickchart\" onclick=\"quickchart('df-8232c6b4-cbf8-45ab-b9dc-561480387b6a')\"\n",
              "            title=\"Suggest charts\"\n",
              "            style=\"display:none;\">\n",
              "\n",
              "<svg xmlns=\"http://www.w3.org/2000/svg\" height=\"24px\"viewBox=\"0 0 24 24\"\n",
              "     width=\"24px\">\n",
              "    <g>\n",
              "        <path d=\"M19 3H5c-1.1 0-2 .9-2 2v14c0 1.1.9 2 2 2h14c1.1 0 2-.9 2-2V5c0-1.1-.9-2-2-2zM9 17H7v-7h2v7zm4 0h-2V7h2v10zm4 0h-2v-4h2v4z\"/>\n",
              "    </g>\n",
              "</svg>\n",
              "  </button>\n",
              "\n",
              "<style>\n",
              "  .colab-df-quickchart {\n",
              "      --bg-color: #E8F0FE;\n",
              "      --fill-color: #1967D2;\n",
              "      --hover-bg-color: #E2EBFA;\n",
              "      --hover-fill-color: #174EA6;\n",
              "      --disabled-fill-color: #AAA;\n",
              "      --disabled-bg-color: #DDD;\n",
              "  }\n",
              "\n",
              "  [theme=dark] .colab-df-quickchart {\n",
              "      --bg-color: #3B4455;\n",
              "      --fill-color: #D2E3FC;\n",
              "      --hover-bg-color: #434B5C;\n",
              "      --hover-fill-color: #FFFFFF;\n",
              "      --disabled-bg-color: #3B4455;\n",
              "      --disabled-fill-color: #666;\n",
              "  }\n",
              "\n",
              "  .colab-df-quickchart {\n",
              "    background-color: var(--bg-color);\n",
              "    border: none;\n",
              "    border-radius: 50%;\n",
              "    cursor: pointer;\n",
              "    display: none;\n",
              "    fill: var(--fill-color);\n",
              "    height: 32px;\n",
              "    padding: 0;\n",
              "    width: 32px;\n",
              "  }\n",
              "\n",
              "  .colab-df-quickchart:hover {\n",
              "    background-color: var(--hover-bg-color);\n",
              "    box-shadow: 0 1px 2px rgba(60, 64, 67, 0.3), 0 1px 3px 1px rgba(60, 64, 67, 0.15);\n",
              "    fill: var(--button-hover-fill-color);\n",
              "  }\n",
              "\n",
              "  .colab-df-quickchart-complete:disabled,\n",
              "  .colab-df-quickchart-complete:disabled:hover {\n",
              "    background-color: var(--disabled-bg-color);\n",
              "    fill: var(--disabled-fill-color);\n",
              "    box-shadow: none;\n",
              "  }\n",
              "\n",
              "  .colab-df-spinner {\n",
              "    border: 2px solid var(--fill-color);\n",
              "    border-color: transparent;\n",
              "    border-bottom-color: var(--fill-color);\n",
              "    animation:\n",
              "      spin 1s steps(1) infinite;\n",
              "  }\n",
              "\n",
              "  @keyframes spin {\n",
              "    0% {\n",
              "      border-color: transparent;\n",
              "      border-bottom-color: var(--fill-color);\n",
              "      border-left-color: var(--fill-color);\n",
              "    }\n",
              "    20% {\n",
              "      border-color: transparent;\n",
              "      border-left-color: var(--fill-color);\n",
              "      border-top-color: var(--fill-color);\n",
              "    }\n",
              "    30% {\n",
              "      border-color: transparent;\n",
              "      border-left-color: var(--fill-color);\n",
              "      border-top-color: var(--fill-color);\n",
              "      border-right-color: var(--fill-color);\n",
              "    }\n",
              "    40% {\n",
              "      border-color: transparent;\n",
              "      border-right-color: var(--fill-color);\n",
              "      border-top-color: var(--fill-color);\n",
              "    }\n",
              "    60% {\n",
              "      border-color: transparent;\n",
              "      border-right-color: var(--fill-color);\n",
              "    }\n",
              "    80% {\n",
              "      border-color: transparent;\n",
              "      border-right-color: var(--fill-color);\n",
              "      border-bottom-color: var(--fill-color);\n",
              "    }\n",
              "    90% {\n",
              "      border-color: transparent;\n",
              "      border-bottom-color: var(--fill-color);\n",
              "    }\n",
              "  }\n",
              "</style>\n",
              "\n",
              "  <script>\n",
              "    async function quickchart(key) {\n",
              "      const quickchartButtonEl =\n",
              "        document.querySelector('#' + key + ' button');\n",
              "      quickchartButtonEl.disabled = true;  // To prevent multiple clicks.\n",
              "      quickchartButtonEl.classList.add('colab-df-spinner');\n",
              "      try {\n",
              "        const charts = await google.colab.kernel.invokeFunction(\n",
              "            'suggestCharts', [key], {});\n",
              "      } catch (error) {\n",
              "        console.error('Error during call to suggestCharts:', error);\n",
              "      }\n",
              "      quickchartButtonEl.classList.remove('colab-df-spinner');\n",
              "      quickchartButtonEl.classList.add('colab-df-quickchart-complete');\n",
              "    }\n",
              "    (() => {\n",
              "      let quickchartButtonEl =\n",
              "        document.querySelector('#df-8232c6b4-cbf8-45ab-b9dc-561480387b6a button');\n",
              "      quickchartButtonEl.style.display =\n",
              "        google.colab.kernel.accessAllowed ? 'block' : 'none';\n",
              "    })();\n",
              "  </script>\n",
              "</div>\n",
              "\n",
              "    </div>\n",
              "  </div>\n"
            ],
            "application/vnd.google.colaboratory.intrinsic+json": {
              "type": "dataframe",
              "variable_name": "data",
              "summary": "{\n  \"name\": \"data\",\n  \"rows\": 150,\n  \"fields\": [\n    {\n      \"column\": \"sepal_length\",\n      \"properties\": {\n        \"dtype\": \"number\",\n        \"std\": 0.828066127977863,\n        \"min\": 4.3,\n        \"max\": 7.9,\n        \"num_unique_values\": 35,\n        \"samples\": [\n          6.2,\n          4.5,\n          5.6\n        ],\n        \"semantic_type\": \"\",\n        \"description\": \"\"\n      }\n    },\n    {\n      \"column\": \"sepal_width\",\n      \"properties\": {\n        \"dtype\": \"number\",\n        \"std\": 0.4335943113621737,\n        \"min\": 2.0,\n        \"max\": 4.4,\n        \"num_unique_values\": 23,\n        \"samples\": [\n          2.3,\n          4.0,\n          3.5\n        ],\n        \"semantic_type\": \"\",\n        \"description\": \"\"\n      }\n    },\n    {\n      \"column\": \"petal_length\",\n      \"properties\": {\n        \"dtype\": \"number\",\n        \"std\": 1.7644204199522626,\n        \"min\": 1.0,\n        \"max\": 6.9,\n        \"num_unique_values\": 43,\n        \"samples\": [\n          6.7,\n          3.8,\n          3.7\n        ],\n        \"semantic_type\": \"\",\n        \"description\": \"\"\n      }\n    },\n    {\n      \"column\": \"petal_width\",\n      \"properties\": {\n        \"dtype\": \"number\",\n        \"std\": 0.7631607417008411,\n        \"min\": 0.1,\n        \"max\": 2.5,\n        \"num_unique_values\": 22,\n        \"samples\": [\n          0.2,\n          1.2,\n          1.3\n        ],\n        \"semantic_type\": \"\",\n        \"description\": \"\"\n      }\n    },\n    {\n      \"column\": \"species\",\n      \"properties\": {\n        \"dtype\": \"category\",\n        \"num_unique_values\": 3,\n        \"samples\": [\n          \"Iris-setosa\",\n          \"Iris-versicolor\",\n          \"Iris-virginica\"\n        ],\n        \"semantic_type\": \"\",\n        \"description\": \"\"\n      }\n    }\n  ]\n}"
            }
          },
          "metadata": {},
          "execution_count": 1
        }
      ]
    },
    {
      "cell_type": "code",
      "metadata": {
        "id": "wjQDG5YlJQK7",
        "colab": {
          "base_uri": "https://localhost:8080/"
        },
        "outputId": "58d223e7-4380-4e72-a01f-24a77d80bc9a"
      },
      "source": [
        "# Number of rows (Hint: check out the dataframe .shape attribute.)\n",
        "print(\"Number of rows = \", data.shape)\n",
        "# print Column names (Hint: check out the dataframe .columns attribute.)\n",
        "print(\"Column names of data :\\n \",data.columns)\n",
        "# print Data types (Hint: check out the dataframe .dtypes attribute.)\n",
        "print(\"Data Types of data :\\n\",data.dtypes)"
      ],
      "execution_count": 10,
      "outputs": [
        {
          "output_type": "stream",
          "name": "stdout",
          "text": [
            "Number of rows =  (150, 5)\n",
            "Column names of data :\n",
            "  Index(['sepal_length', 'sepal_width', 'petal_length', 'petal_width',\n",
            "       'species'],\n",
            "      dtype='object')\n",
            "Data Types of data :\n",
            " sepal_length    float64\n",
            "sepal_width     float64\n",
            "petal_length    float64\n",
            "petal_width     float64\n",
            "species          object\n",
            "dtype: object\n"
          ]
        }
      ]
    },
    {
      "cell_type": "code",
      "metadata": {
        "id": "v7bMj1iHIYtR",
        "colab": {
          "base_uri": "https://localhost:8080/"
        },
        "outputId": "0969c299-68f1-47cd-ff02-d1d8caba20a8"
      },
      "source": [
        "#@title  { display-mode: \"form\" }\n",
        "# Number of rows\n",
        "print('Number of rows: {}'.format(data.shape[0]))\n",
        "\n",
        "# Column names\n",
        "print(data.columns.tolist())\n",
        "\n",
        "# Data types\n",
        "print(data.dtypes)"
      ],
      "execution_count": 12,
      "outputs": [
        {
          "output_type": "stream",
          "name": "stdout",
          "text": [
            "Number of rows: 150\n",
            "['sepal_length', 'sepal_width', 'petal_length', 'petal_width', 'species']\n",
            "sepal_length    float64\n",
            "sepal_width     float64\n",
            "petal_length    float64\n",
            "petal_width     float64\n",
            "species          object\n",
            "dtype: object\n"
          ]
        }
      ]
    },
    {
      "cell_type": "markdown",
      "metadata": {
        "id": "KL6F085VLasz",
        "run_control": {
          "marked": true
        }
      },
      "source": [
        "## Question 2\n",
        "\n",
        "Examine the species names and note that they all begin with 'Iris-'. Remove this portion of the name so the species name is shorter.\n",
        "\n",
        "*Hint:* there are multiple ways to do this, but you could use either the [string processing methods](http://pandas.pydata.org/pandas-docs/stable/text.html) or the [apply method](http://pandas.pydata.org/pandas-docs/stable/generated/pandas.Series.apply.html)."
      ]
    },
    {
      "cell_type": "code",
      "metadata": {
        "ExecuteTime": {
          "end_time": "2017-03-19T23:17:53.678316Z",
          "start_time": "2017-03-19T19:17:53.660202-04:00"
        },
        "id": "70VnXtLILas0",
        "run_control": {
          "marked": true
        }
      },
      "source": [
        "# The str method maps the following function to each entry as a string\n"
      ],
      "execution_count": 13,
      "outputs": []
    },
    {
      "cell_type": "code",
      "metadata": {
        "cellView": "form",
        "id": "_xQtcPyiIqoK"
      },
      "source": [
        "#@title\n",
        "# The str method maps the following function to each entry as a string\n",
        "data['species'] = data.species.str.replace('Iris-', '')\n",
        "# alternatively\n",
        "# data['species'] = data.species.apply(lambda r: r.replace('Iris-', ''))\n",
        "\n",
        "data.head()"
      ],
      "execution_count": null,
      "outputs": []
    },
    {
      "cell_type": "markdown",
      "metadata": {
        "id": "WJ-s7A_BLas2",
        "run_control": {
          "marked": true
        }
      },
      "source": [
        "## Question 3\n",
        "\n",
        "Determine the following:  \n",
        "* The number of each species present. (*Hint:* check out the series `.value_counts` method.)\n",
        "* The mean, median, and quantiles and ranges (max-min) for each petal and sepal measurement.\n",
        "\n",
        "*Hint:* for the last question, the `.describe` method does have median, but it's not called median. It's the *50%* quantile. `.describe` does not have range though, and in order to get the range, you will need to create a new entry in the `.describe` table, which is `max - min`."
      ]
    },
    {
      "cell_type": "code",
      "metadata": {
        "ExecuteTime": {
          "end_time": "2017-03-19T23:20:16.483215Z",
          "start_time": "2017-03-19T19:20:16.472865-04:00"
        },
        "id": "ldJ9wKvOLas2",
        "run_control": {
          "marked": true
        }
      },
      "source": [
        "# use .value_counts() to count each species\n"
      ],
      "execution_count": null,
      "outputs": []
    },
    {
      "cell_type": "code",
      "metadata": {
        "cellView": "form",
        "id": "Q0Iz0DnSJPDl"
      },
      "source": [
        "#@title\n",
        "# One way to count each species\n",
        "data.species.value_counts()"
      ],
      "execution_count": null,
      "outputs": []
    },
    {
      "cell_type": "code",
      "metadata": {
        "id": "E8dkfRUUJUOb"
      },
      "source": [
        "# Select just the rows desired from the 'describe' method and add in the 'median' (Hint: check out the dataframe .rename attribute.)\n"
      ],
      "execution_count": null,
      "outputs": []
    },
    {
      "cell_type": "code",
      "metadata": {
        "cellView": "form",
        "id": "EJdwL_vKJXxQ"
      },
      "source": [
        "#@title\n",
        "# Select just the rows desired from the 'describe' method and add in the 'median'\n",
        "stats_df = data.describe()\n",
        "stats_df = data.describe()\n",
        "stats_df.loc['range'] = stats_df.loc['max'] - stats_df.loc['min']\n",
        "\n",
        "out_fields = ['mean','25%','50%','75%', 'range']\n",
        "stats_df = stats_df.loc[out_fields]\n",
        "stats_df.rename({'50%': 'median'}, inplace=True)\n",
        "stats_df"
      ],
      "execution_count": null,
      "outputs": []
    },
    {
      "cell_type": "markdown",
      "metadata": {
        "id": "oTRgWB51Las5",
        "run_control": {
          "marked": true
        }
      },
      "source": [
        "## Question 4\n",
        "\n",
        "Calculate the following **for each species** in a separate dataframe:\n",
        "\n",
        "* The mean of each measurement (sepal_length, sepal_width, petal_length, and petal_width).\n",
        "* The median of each of these measurements.\n",
        "\n",
        "*Hint:* you may want to use Pandas [`groupby` method](http://pandas.pydata.org/pandas-docs/stable/generated/pandas.DataFrame.groupby.html) to group by species before calculating the statistic.\n",
        "\n",
        "If you finish both of these, try calculating both statistics (mean and median) in a single table (i.e. with a single groupby call). See the section of the Pandas documentation on [applying multiple functions at once](http://pandas.pydata.org/pandas-docs/stable/groupby.html#applying-multiple-functions-at-once) for a hint."
      ]
    },
    {
      "cell_type": "code",
      "metadata": {
        "ExecuteTime": {
          "end_time": "2017-03-19T23:22:07.306171Z",
          "start_time": "2017-03-19T19:22:07.286965-04:00"
        },
        "id": "J4daVexALas6"
      },
      "source": [
        "# The mean calculation (Hint: check out the dataframe .groupby attribute.)\n"
      ],
      "execution_count": null,
      "outputs": []
    },
    {
      "cell_type": "code",
      "metadata": {
        "cellView": "form",
        "id": "6elZv6jyLNVT"
      },
      "source": [
        "#@title\n",
        "# The mean calculation\n",
        "data.groupby('species').mean()"
      ],
      "execution_count": null,
      "outputs": []
    },
    {
      "cell_type": "code",
      "metadata": {
        "id": "fco4HCIjLDVs"
      },
      "source": [
        "# The median calculation\n"
      ],
      "execution_count": null,
      "outputs": []
    },
    {
      "cell_type": "code",
      "metadata": {
        "cellView": "form",
        "id": "6shdV2jyLPTH"
      },
      "source": [
        "#@title\n",
        "# The median calculation\n",
        "data.groupby('species').median()"
      ],
      "execution_count": null,
      "outputs": []
    },
    {
      "cell_type": "code",
      "metadata": {
        "id": "YgrWDye_LFzL"
      },
      "source": [
        "# applying multiple functions at once - 2 methods\n"
      ],
      "execution_count": null,
      "outputs": []
    },
    {
      "cell_type": "code",
      "metadata": {
        "cellView": "form",
        "id": "RsBDfybwLQ_V"
      },
      "source": [
        "#@title\n",
        "# applying multiple functions at once - 2 methods\n",
        "\n",
        "data.groupby('species').agg(['mean', 'median'])  # passing a list of recognized strings\n",
        "data.groupby('species').agg([np.mean, np.median])  # passing a list of explicit aggregation functions"
      ],
      "execution_count": null,
      "outputs": []
    },
    {
      "cell_type": "code",
      "metadata": {
        "id": "HKyWZt5BLKlh"
      },
      "source": [
        "# If certain fields need to be aggregated differently, we can do:\n"
      ],
      "execution_count": null,
      "outputs": []
    },
    {
      "cell_type": "code",
      "metadata": {
        "cellView": "form",
        "id": "mNM4zb8yLZoR"
      },
      "source": [
        "#@title\n",
        "variable_name = \"\"\n",
        "# If certain fields need to be aggregated differently, we can do:\n",
        "from pprint import pprint\n",
        "\n",
        "agg_dict = {field: ['mean', 'median'] for field in data.columns if field != 'species'}\n",
        "agg_dict['petal_length'] = 'max'\n",
        "pprint(agg_dict)\n",
        "data.groupby('species').agg(agg_dict)"
      ],
      "execution_count": null,
      "outputs": []
    },
    {
      "cell_type": "markdown",
      "metadata": {
        "id": "smgRPnA8Las8"
      },
      "source": [
        "## Question 5\n",
        "\n",
        "Make a scatter plot of `sepal_length` vs `sepal_width` using Matplotlib. Label the axes and give the plot a title."
      ]
    },
    {
      "cell_type": "code",
      "metadata": {
        "id": "4vfbkkb_PWYN"
      },
      "source": [
        "import matplotlib.pyplot as plt\n",
        "# A simple scatter plot with Matplotlib\n",
        "\n",
        "\n",
        "# Label the axes\n"
      ],
      "execution_count": null,
      "outputs": []
    },
    {
      "cell_type": "code",
      "metadata": {
        "ExecuteTime": {
          "end_time": "2017-03-19T23:23:36.914375Z",
          "start_time": "2017-03-19T19:23:36.661322-04:00"
        },
        "cellView": "form",
        "id": "QFWYbu_aLas9"
      },
      "source": [
        "#@title\n",
        "import matplotlib.pyplot as plt\n",
        "\n",
        "# A simple scatter plot with Matplotlib\n",
        "ax = plt.axes()\n",
        "\n",
        "ax.scatter(data.sepal_length, data.sepal_width)\n",
        "\n",
        "# Label the axes\n",
        "ax.set(xlabel='Sepal Length (cm)',\n",
        "       ylabel='Sepal Width (cm)',\n",
        "       title='Sepal Length vs Width');"
      ],
      "execution_count": null,
      "outputs": []
    },
    {
      "cell_type": "markdown",
      "metadata": {
        "id": "5fUDiL8OLas_"
      },
      "source": [
        "## Question 6\n",
        "\n",
        "Make a histogram of any one of the four features. Label axes and title it as appropriate."
      ]
    },
    {
      "cell_type": "code",
      "metadata": {
        "id": "ZbcbCQRiLatB"
      },
      "source": [
        "# Using Matplotlib's plotting functionality\n"
      ],
      "execution_count": null,
      "outputs": []
    },
    {
      "cell_type": "code",
      "metadata": {
        "cellView": "form",
        "id": "IQWZinwpOIr5"
      },
      "source": [
        "#@title\n",
        "# Using Matplotlib's plotting functionality\n",
        "ax = plt.axes()\n",
        "ax.hist(data.petal_length, bins=25);\n",
        "\n",
        "ax.set(xlabel='Petal Length (cm)',\n",
        "       ylabel='Frequency',\n",
        "       title='Distribution of Petal Lengths');"
      ],
      "execution_count": null,
      "outputs": []
    },
    {
      "cell_type": "code",
      "metadata": {
        "cellView": "form",
        "id": "3wMvsD0mOB2I"
      },
      "source": [
        "#@title\n",
        "# Alternatively using Pandas plotting functionality\n",
        "ax = data.petal_length.plot.hist(bins=25)\n",
        "\n",
        "ax.set(xlabel='Petal Length (cm)',\n",
        "       ylabel='Frequency',\n",
        "       title='Distribution of Petal Lengths');"
      ],
      "execution_count": null,
      "outputs": []
    },
    {
      "cell_type": "markdown",
      "metadata": {
        "id": "NQ5MSo3pLatC"
      },
      "source": [
        "## Question 7\n",
        "\n",
        "Now create a single plot with histograms for each feature (`petal_width`, `petal_length`, `sepal_width`, `sepal_length`) overlayed. If you have time, next try to create four individual histogram plots in a single figure, where each plot contains one feature.\n",
        "\n",
        "For some hints on how to do this with Pandas plotting methods, check out the [visualization guide](http://pandas.pydata.org/pandas-docs/version/0.18.1/visualization.html) for Pandas."
      ]
    },
    {
      "cell_type": "code",
      "source": [
        "#Create a single plot with histograms for each feature (petal_width, petal_length, sepal_width, sepal_length) overlayed."
      ],
      "metadata": {
        "id": "jG4XLlEL3osW"
      },
      "execution_count": 16,
      "outputs": []
    },
    {
      "cell_type": "code",
      "source": [
        "##  Copied from ChatGPT ###\n",
        "\n",
        "import matplotlib.pyplot as plt\n",
        "import seaborn as sns\n",
        "from sklearn.datasets import load_iris\n",
        "import pandas as pd\n",
        "\n",
        "# Load iris dataset\n",
        "iris = load_iris()\n",
        "iris_df = pd.DataFrame(data=iris.data, columns=iris.feature_names)\n",
        "\n",
        "# Plot histograms\n",
        "plt.figure(figsize=(10, 6))\n",
        "\n",
        "# Histogram for petal width\n",
        "sns.histplot(iris_df['petal width (cm)'], color='blue', label='Petal Width', kde=True)\n",
        "\n",
        "# Histogram for petal length\n",
        "sns.histplot(iris_df['petal length (cm)'], color='green', label='Petal Length', kde=True)\n",
        "\n",
        "# Histogram for sepal width\n",
        "sns.histplot(iris_df['sepal width (cm)'], color='red', label='Sepal Width', kde=True)\n",
        "\n",
        "# Histogram for sepal length\n",
        "sns.histplot(iris_df['sepal length (cm)'], color='orange', label='Sepal Length', kde=True)\n",
        "\n",
        "# Add labels and legend\n",
        "plt.xlabel('Size (cm)')\n",
        "plt.ylabel('Frequency')\n",
        "plt.title('Histograms of Iris Features')\n",
        "plt.legend()\n",
        "\n",
        "plt.show()"
      ],
      "metadata": {
        "colab": {
          "base_uri": "https://localhost:8080/",
          "height": 573
        },
        "id": "OqdthsNnFGEw",
        "outputId": "d75bf4f0-24b8-4eed-8353-2ca2bf9cae32"
      },
      "execution_count": 17,
      "outputs": [
        {
          "output_type": "display_data",
          "data": {
            "text/plain": [
              "<Figure size 1000x600 with 1 Axes>"
            ],
            "image/png": "[encoded data removed]"
          },
          "metadata": {}
        }
      ]
    },
    {
      "cell_type": "code",
      "metadata": {
        "id": "ZQNX8YWIOXZe",
        "colab": {
          "base_uri": "https://localhost:8080/",
          "height": 458
        },
        "outputId": "fbf80466-2305-4021-f736-1231876f98fa"
      },
      "source": [
        "#@title\n",
        "sns.set_context('notebook')\n",
        "\n",
        "# This uses the `.plot.hist` method\n",
        "ax = data.plot.hist(bins=25, alpha=0.5)\n",
        "ax.set_xlabel('Size (cm)');"
      ],
      "execution_count": 15,
      "outputs": [
        {
          "output_type": "display_data",
          "data": {
            "text/plain": [
              "<Figure size 640x480 with 1 Axes>"
            ],
            "image/png": "[encoded data removed]"
          },
          "metadata": {}
        }
      ]
    },
    {
      "cell_type": "code",
      "source": [
        "#Create four individual histogram plots in a single figure, where each plot contains one feature."
      ],
      "metadata": {
        "id": "qk-8q-Sh3y3p"
      },
      "execution_count": null,
      "outputs": []
    },
    {
      "cell_type": "markdown",
      "metadata": {
        "id": "643kb5d3LatF"
      },
      "source": [
        "## Question 8\n",
        "\n",
        "Using Pandas, make a boxplot of each petal and sepal measurement. Here is the documentation for [Pandas boxplot method](http://pandas.pydata.org/pandas-docs/version/0.18.1/visualization.html#visualization-box)."
      ]
    },
    {
      "cell_type": "code",
      "metadata": {
        "id": "ev29KrGSLatH"
      },
      "source": [
        "# Pandas plotting functionality is pretty awesome!\n",
        "# Here we have four separate plots\n"
      ],
      "execution_count": null,
      "outputs": []
    },
    {
      "cell_type": "code",
      "metadata": {
        "id": "l0WZHFM8OhSq"
      },
      "source": [
        "#@title\n",
        "# Pandas plotting functionality is pretty awesome!\n",
        "# Here we have four separate plots\n",
        "\n",
        "data.boxplot(by='species');"
      ],
      "execution_count": null,
      "outputs": []
    },
    {
      "cell_type": "markdown",
      "metadata": {
        "id": "bhKL5Gt1LatJ"
      },
      "source": [
        "## Question 9\n",
        "\n",
        "Now make a single boxplot where the features are separated in the x-axis and species are colored with different hues.\n",
        "\n",
        "*Hint:* you may want to check the documentation for [Seaborn boxplots](http://seaborn.pydata.org/generated/seaborn.boxplot.html).\n",
        "\n",
        "Also note that Seaborn is very picky about data format--for this plot to work, the input dataframe will need to be manipulated so that each row contains a single data point (a species, a measurement type, and the measurement value). Check out Pandas [stack](http://pandas.pydata.org/pandas-docs/stable/generated/pandas.DataFrame.stack.html) method as a starting place.\n",
        "\n",
        "Here is an example of a data format that will work:\n",
        "\n",
        "|   | species | measurement  | size |\n",
        "| - | ------- | ------------ | ---- |\n",
        "| 0\t| setosa  | sepal_length | 5.1  |\n",
        "| 1\t| setosa  | sepal_width  | 3.5  |"
      ]
    },
    {
      "cell_type": "code",
      "metadata": {
        "id": "OmuJY-ghLatK"
      },
      "source": [
        "# First we have to reshape the data so there is\n",
        "# only a single measurement in each column"
      ],
      "execution_count": null,
      "outputs": []
    },
    {
      "cell_type": "code",
      "metadata": {
        "cellView": "form",
        "id": "roPcn-iNOqOI"
      },
      "source": [
        "#@title\n",
        "# First we have to reshape the data so there is\n",
        "# only a single measurement in each column\n",
        "\n",
        "plot_data = (data\n",
        "             .set_index('species')\n",
        "             .stack()\n",
        "             .to_frame()\n",
        "             .reset_index()\n",
        "             .rename(columns={0:'size', 'level_1':'measurement'})\n",
        "            )\n",
        "\n",
        "plot_data.head()"
      ],
      "execution_count": null,
      "outputs": []
    },
    {
      "cell_type": "code",
      "metadata": {
        "id": "pieNVJuGOs6_"
      },
      "source": [
        "# Now plot the dataframe from above using Seaborn"
      ],
      "execution_count": null,
      "outputs": []
    },
    {
      "cell_type": "code",
      "metadata": {
        "cellView": "form",
        "id": "mc1c862XOunP"
      },
      "source": [
        "#@title\n",
        "sns.set_style('white')\n",
        "sns.set_context('notebook')\n",
        "sns.set_palette('dark')\n",
        "\n",
        "f = plt.figure(figsize=(6,4))\n",
        "sns.boxplot(x='measurement', y='size',\n",
        "            hue='species', data=plot_data);"
      ],
      "execution_count": null,
      "outputs": []
    },
    {
      "cell_type": "markdown",
      "metadata": {
        "id": "PWrqRXtiLatP"
      },
      "source": [
        "## Question 10\n",
        "\n",
        "Make a [pairplot](http://seaborn.pydata.org/generated/seaborn.pairplot.html) with Seaborn to examine the correlation between each of the measurements.\n",
        "\n",
        "*Hint:* this plot may look complicated, but it is actually only a single line of code. This is the power of Seaborn and dataframe-aware plotting! See the lecture notes for reference."
      ]
    },
    {
      "cell_type": "code",
      "metadata": {
        "id": "Xo3nlKQA5G4l"
      },
      "source": [],
      "execution_count": null,
      "outputs": []
    },
    {
      "cell_type": "code",
      "metadata": {
        "cellView": "form",
        "id": "5G1NWkorOzQE"
      },
      "source": [
        "#@title\n",
        "sns.set_context('talk')\n",
        "sns.pairplot(data, hue='species');"
      ],
      "execution_count": null,
      "outputs": []
    }
  ]
}